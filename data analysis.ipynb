{
 "cells": [
  {
   "cell_type": "markdown",
   "id": "9b3490eb-201a-4576-894e-a1072cb6da07",
   "metadata": {},
   "source": [
    "DATA ANALYSIS"
   ]
  },
  {
   "cell_type": "markdown",
   "id": "3088a85a-8502-477b-b298-e725e083e58b",
   "metadata": {},
   "source": [
    "# BASIC "
   ]
  },
  {
   "cell_type": "code",
   "execution_count": 1,
   "id": "b0e16c0f-2dc9-4ad7-ba8e-b8f00f2a0b1e",
   "metadata": {},
   "outputs": [],
   "source": [
    "import sys"
   ]
  },
  {
   "cell_type": "code",
   "execution_count": 2,
   "id": "da394b7c-f9a8-47b8-80ea-070abeaae657",
   "metadata": {},
   "outputs": [
    {
     "name": "stdout",
     "output_type": "stream",
     "text": [
      "python version: 3.11.7 | packaged by Anaconda, Inc. | (main, Dec 15 2023, 18:05:47) [MSC v.1916 64 bit (AMD64)]\n"
     ]
    }
   ],
   "source": [
    "print(\"python version:\", sys.version)"
   ]
  },
  {
   "cell_type": "markdown",
   "id": "a361a0d4-8193-4a2c-ae68-237e0b715cb3",
   "metadata": {},
   "source": [
    "SYNTIX AND SAMANTIC"
   ]
  },
  {
   "cell_type": "markdown",
   "id": "b666be8c-981d-4526-8e2c-fbf886cbcea6",
   "metadata": {},
   "source": [
    "SYNTAX: is correct arrangement of code, command ,symbole,chracter in language.all about coorect arrangement of word and code.\n",
    "SAMANTIC :is interpretatin of code , command , symbole, chracter in language.all about what the code is suppose to do when it run."
   ]
  },
  {
   "cell_type": "markdown",
   "id": "3596f974-81d5-4d8f-8bc1-0427fc914da7",
   "metadata": {},
   "source": [
    "INDENTATION "
   ]
  },
  {
   "cell_type": "markdown",
   "id": "4ecbd81d-68c4-4006-b945-ec8293948012",
   "metadata": {},
   "source": [
    "block of code the space at the begining of code line."
   ]
  },
  {
   "cell_type": "code",
   "execution_count": 4,
   "id": "85378f2f-93fd-454e-94d3-13edf3622489",
   "metadata": {},
   "outputs": [
    {
     "name": "stdout",
     "output_type": "stream",
     "text": [
      "five is greatert than two\n"
     ]
    }
   ],
   "source": [
    "if 5 > 2:\n",
    "    print (\"five is greatert than two\") "
   ]
  },
  {
   "cell_type": "markdown",
   "id": "4cfa5973-478a-45ec-801f-ed36472693d2",
   "metadata": {},
   "source": [
    "COMMENT "
   ]
  },
  {
   "cell_type": "markdown",
   "id": "1a73e07d-b92c-4a26-8058-cda47d149950",
   "metadata": {},
   "source": [
    "comment can be used to define python code. single and multipule comment used in this. ctrl+/(forword slash) use to comment the line.\n"
   ]
  },
  {
   "cell_type": "code",
   "execution_count": 7,
   "id": "533ffe30-9687-4344-820c-2ce70e03a69f",
   "metadata": {},
   "outputs": [],
   "source": [
    "# this is my data analysis series it is single line comment."
   ]
  },
  {
   "cell_type": "code",
   "execution_count": 9,
   "id": "d55ee616-ebd7-4cca-b473-62063b2dd4c9",
   "metadata": {},
   "outputs": [
    {
     "data": {
      "text/plain": [
       "' this is my\\nis my \\ndata analysis series'"
      ]
     },
     "execution_count": 9,
     "metadata": {},
     "output_type": "execute_result"
    }
   ],
   "source": [
    "''' this is my\n",
    "is my \n",
    "data analysis series''' "
   ]
  },
  {
   "cell_type": "code",
   "execution_count": 10,
   "id": "a9e2eef6-991d-47a2-8f7b-ac406c018a5b",
   "metadata": {},
   "outputs": [],
   "source": [
    "# this is my \n",
    "# data analysis\n",
    "# series .it is multiline comment."
   ]
  },
  {
   "cell_type": "markdown",
   "id": "eef9023f-c75f-437e-b376-ce38117efb25",
   "metadata": {},
   "source": [
    "CASE SENSTIVE LANGUAGE : IN THIS a and A both are diff. "
   ]
  },
  {
   "cell_type": "code",
   "execution_count": 6,
   "id": "b363c844-dbac-4d32-8c7d-6681520db90e",
   "metadata": {},
   "outputs": [
    {
     "name": "stdout",
     "output_type": "stream",
     "text": [
      "sapna\n",
      "verma\n"
     ]
    }
   ],
   "source": [
    "name= \"sapna\" \n",
    "Name= \"verma\"\n",
    "print(name)\n",
    "print(Name)"
   ]
  },
  {
   "cell_type": "markdown",
   "id": "b8ed5ff4-1496-4cf0-b819-b88279cae1ec",
   "metadata": {},
   "source": [
    "<!-- lINE CONTINUTION: line create a variable total okay And I'm doing some mathematical operation like eg..in this \\ backword slash for new line. -->"
   ]
  },
  {
   "cell_type": "code",
   "execution_count": 5,
   "id": "a6d33a54-f263-4ee3-a548-3e8fd65a62a2",
   "metadata": {},
   "outputs": [
    {
     "name": "stdout",
     "output_type": "stream",
     "text": [
      "34\n"
     ]
    }
   ],
   "source": [
    "total= 2+5+5+8+\\\n",
    "5+9\n",
    "print(total)"
   ]
  },
  {
   "cell_type": "code",
   "execution_count": 6,
   "id": "5f4758d2-99a0-4da3-8788-61a6fb96482f",
   "metadata": {},
   "outputs": [
    {
     "name": "stdout",
     "output_type": "stream",
     "text": [
      "12\n"
     ]
    }
   ],
   "source": [
    "# multiple statement in single line.\n",
    "a=4;b=8;c=a+b\n",
    "print(c)"
   ]
  },
  {
   "cell_type": "code",
   "execution_count": 9,
   "id": "7bb5aaa9-a42b-44ea-9d74-82f915f9c307",
   "metadata": {},
   "outputs": [],
   "source": [
    "#understand the samantic in python\n",
    "#variable assignment\n",
    "age=25 #age is int\n",
    "name=\"sapna\" #name is str"
   ]
  },
  {
   "cell_type": "code",
   "execution_count": 11,
   "id": "135ef78f-356b-40b4-8c84-cd7621b94d67",
   "metadata": {},
   "outputs": [
    {
     "data": {
      "text/plain": [
       "int"
      ]
     },
     "execution_count": 11,
     "metadata": {},
     "output_type": "execute_result"
    }
   ],
   "source": [
    "type(age)"
   ]
  },
  {
   "cell_type": "code",
   "execution_count": 12,
   "id": "835ea020-2d90-4eb4-a7e4-04b728701b57",
   "metadata": {},
   "outputs": [
    {
     "data": {
      "text/plain": [
       "str"
      ]
     },
     "execution_count": 12,
     "metadata": {},
     "output_type": "execute_result"
    }
   ],
   "source": [
    "type(name)"
   ]
  },
  {
   "cell_type": "code",
   "execution_count": 7,
   "id": "8b260602-471a-4867-bb54-7bd3f1dbf3df",
   "metadata": {},
   "outputs": [
    {
     "name": "stdout",
     "output_type": "stream",
     "text": [
      "<class 'list'>\n"
     ]
    }
   ],
   "source": [
    "# type interference\n",
    "_som = [23,45,65]\n",
    "print(type(_som))"
   ]
  },
  {
   "cell_type": "code",
   "execution_count": 4,
   "id": "618326a5-b772-43bf-afc2-ad3249329fce",
   "metadata": {},
   "outputs": [
    {
     "name": "stdout",
     "output_type": "stream",
     "text": [
      "17\n"
     ]
    }
   ],
   "source": [
    "# line continution \n",
    "# use backslash(\\) for continue the statement. \n",
    "total = 2+3+4+\\\n",
    "4-5+9\n",
    "print(total)"
   ]
  },
  {
   "cell_type": "code",
   "execution_count": 5,
   "id": "dd27ae78-d549-4410-9fe9-3ab970e5dc34",
   "metadata": {},
   "outputs": [
    {
     "name": "stdout",
     "output_type": "stream",
     "text": [
      "7\n"
     ]
    }
   ],
   "source": [
    "# multiple statement on a single line\n",
    "a=2;b=5;c=a+b\n",
    "print(c)"
   ]
  },
  {
   "cell_type": "code",
   "execution_count": 6,
   "id": "062825d5-5c99-4b2c-9c74-d50670883cf3",
   "metadata": {},
   "outputs": [
    {
     "name": "stdout",
     "output_type": "stream",
     "text": [
      "9\n"
     ]
    }
   ],
   "source": [
    "a=3;b=6;c=a+b\n",
    "print(c)"
   ]
  },
  {
   "cell_type": "code",
   "execution_count": 9,
   "id": "3c4b4cbc-2c26-4dd8-923a-87d81ed1984b",
   "metadata": {},
   "outputs": [
    {
     "ename": "NameError",
     "evalue": "name 'sapna' is not defined",
     "output_type": "error",
     "traceback": [
      "\u001b[1;31m---------------------------------------------------------------------------\u001b[0m",
      "\u001b[1;31mNameError\u001b[0m                                 Traceback (most recent call last)",
      "Cell \u001b[1;32mIn[9], line 2\u001b[0m\n\u001b[0;32m      1\u001b[0m \u001b[38;5;66;03m# name error \u001b[39;00m\n\u001b[1;32m----> 2\u001b[0m a\u001b[38;5;241m=\u001b[39m sapna\n\u001b[0;32m      3\u001b[0m \u001b[38;5;28mprint\u001b[39m(a)\n",
      "\u001b[1;31mNameError\u001b[0m: name 'sapna' is not defined"
     ]
    }
   ],
   "source": [
    "# name error \n",
    "a= sapna\n",
    "print(a)"
   ]
  },
  {
   "cell_type": "markdown",
   "id": "bfcd0969-8dd3-480a-bcf8-85e628a78366",
   "metadata": {},
   "source": [
    "# VARIBLES"
   ]
  },
  {
   "cell_type": "code",
   "execution_count": null,
   "id": "1a25ebad-0537-4a9f-8ce3-281dc02e794c",
   "metadata": {},
   "outputs": [],
   "source": [
    " # So variables are fundamental elements in programming used to store data that can be referenced and manipulated in a program. \n",
    "# In Python,variables are created when you assign a value to them, and they do not need explicit declaration to resolve memory space."
   ]
  },
  {
   "cell_type": "code",
   "execution_count": 12,
   "id": "c42a6117-fcd9-4fba-a2b0-47ee1861bcde",
   "metadata": {},
   "outputs": [
    {
     "name": "stdout",
     "output_type": "stream",
     "text": [
      "name: sapna\n",
      "age: 25\n",
      "height: 5.3\n",
      "is_student: true\n"
     ]
    }
   ],
   "source": [
    "# declearing and assign variables \n",
    "name = \"sapna\"\n",
    "age = 25\n",
    "height = 5.3\n",
    "is_student = \"true\" \n",
    "\n",
    "# printing the variables\n",
    "print(\"name:\", name)\n",
    "print(\"age:\" , age)\n",
    "print(\"height:\" , height)\n",
    "print(\"is_student:\" , is_student)\n"
   ]
  },
  {
   "cell_type": "code",
   "execution_count": 14,
   "id": "043b0075-feb4-40d9-be55-1db772fe7ec3",
   "metadata": {},
   "outputs": [
    {
     "name": "stdout",
     "output_type": "stream",
     "text": [
      "sapna\n",
      "verma\n"
     ]
    }
   ],
   "source": [
    "# naming conversion \n",
    "# thevariable should be start with letter or \"_\" underscore and contains letter , numbers , undrscore .\n",
    "# variables name are case senstive.\n",
    "\n",
    "# valid variables names \n",
    "first_name = \"sapna\"\n",
    "last_name = \"verma\"\n",
    "print(first_name)\n",
    "print(last_name)\n"
   ]
  },
  {
   "cell_type": "code",
   "execution_count": 15,
   "id": "9b04eaa2-4fbc-488b-b0ec-d9d186b1409b",
   "metadata": {},
   "outputs": [
    {
     "ename": "SyntaxError",
     "evalue": "invalid decimal literal (3879113998.py, line 2)",
     "output_type": "error",
     "traceback": [
      "\u001b[1;36m  Cell \u001b[1;32mIn[15], line 2\u001b[1;36m\u001b[0m\n\u001b[1;33m    1_name = \"sapna\"\u001b[0m\n\u001b[1;37m     ^\u001b[0m\n\u001b[1;31mSyntaxError\u001b[0m\u001b[1;31m:\u001b[0m invalid decimal literal\n"
     ]
    }
   ],
   "source": [
    "# invalid variables \n",
    "1_name = \"sapna\"\n",
    "print(1_name)"
   ]
  },
  {
   "cell_type": "code",
   "execution_count": 16,
   "id": "8fb3b951-e199-4f20-b82b-0534c3366d4e",
   "metadata": {},
   "outputs": [
    {
     "ename": "SyntaxError",
     "evalue": "invalid syntax. Maybe you meant '==' or ':=' instead of '='? (1992890633.py, line 1)",
     "output_type": "error",
     "traceback": [
      "\u001b[1;36m  Cell \u001b[1;32mIn[16], line 1\u001b[1;36m\u001b[0m\n\u001b[1;33m    @name = \"sapna\"\u001b[0m\n\u001b[1;37m     ^\u001b[0m\n\u001b[1;31mSyntaxError\u001b[0m\u001b[1;31m:\u001b[0m invalid syntax. Maybe you meant '==' or ':=' instead of '='?\n"
     ]
    }
   ],
   "source": [
    "@name = \"sapna\"\n",
    "print(@name)"
   ]
  },
  {
   "cell_type": "code",
   "execution_count": 19,
   "id": "382d65e6-1ce6-41f8-b705-11483fa18292",
   "metadata": {},
   "outputs": [
    {
     "name": "stdout",
     "output_type": "stream",
     "text": [
      "name: sapna\n",
      "Name: verma\n"
     ]
    },
    {
     "data": {
      "text/plain": [
       "False"
      ]
     },
     "execution_count": 19,
     "metadata": {},
     "output_type": "execute_result"
    }
   ],
   "source": [
    "# case senstive \n",
    "name = \"sapna\"\n",
    "Name = \"verma\"\n",
    "print(\"name:\",name)\n",
    "print(\"Name:\",Name)\n",
    "# both r different.\n",
    "name==Name"
   ]
  },
  {
   "cell_type": "code",
   "execution_count": 27,
   "id": "4b8b9c56-60dc-452a-bead-2ecdb57b6ef4",
   "metadata": {},
   "outputs": [
    {
     "name": "stdout",
     "output_type": "stream",
     "text": [
      "<class 'int'>\n",
      "<class 'str'>\n",
      "<class 'float'>\n",
      "24\n",
      "24.0\n",
      "5\n"
     ]
    }
   ],
   "source": [
    "# understanding the type of variables\n",
    "# python is dynamically typed, type of variable is determined at run time.\n",
    "age= 24 #int\n",
    "name= \"sapna\" #str\n",
    "height= 5.3  #float\n",
    "\n",
    "print(type(age))\n",
    "print(type(name))\n",
    "print(type(height))\n",
    "\n",
    "# type casting \n",
    "print(str(age))\n",
    "print(float(age))\n",
    "print(int(height))\n"
   ]
  },
  {
   "cell_type": "code",
   "execution_count": 32,
   "id": "0d2eacd6-1892-4f8a-94b3-073e49f6325f",
   "metadata": {},
   "outputs": [
    {
     "name": "stdout",
     "output_type": "stream",
     "text": [
      "<class 'int'>\n",
      "<class 'str'>\n",
      "<class 'float'>\n",
      "<class 'str'>\n",
      "<class 'str'>\n",
      "<class 'int'>\n"
     ]
    }
   ],
   "source": [
    "# type casting (coversion)\n",
    "a = 2\n",
    "b = \"sapna\"\n",
    "c = 2.4\n",
    "print(type(a))\n",
    "print(type(b))\n",
    "print(type(c))\n",
    "# use type casting \n",
    "x=str(a)\n",
    "y=str(b)\n",
    "z=int(c)\n",
    "print(type(x))\n",
    "print(type(y))\n",
    "print(type(z))"
   ]
  },
  {
   "cell_type": "code",
   "execution_count": 33,
   "id": "9032382d-3609-4a4a-9ac2-a8cb94ae5ee8",
   "metadata": {},
   "outputs": [
    {
     "name": "stdout",
     "output_type": "stream",
     "text": [
      "<class 'int'>\n",
      "24\n",
      "<class 'str'>\n"
     ]
    }
   ],
   "source": [
    "# one more example \n",
    "age = 24 \n",
    "print(type(age))\n",
    "\n",
    "# type conversion\n",
    "age_str = str(age)\n",
    "print(age_str)\n",
    "print(type(age_str))"
   ]
  },
  {
   "cell_type": "code",
   "execution_count": 34,
   "id": "7f2fcd03-1b5d-434d-a089-c7110d1e0f5d",
   "metadata": {},
   "outputs": [
    {
     "name": "stdout",
     "output_type": "stream",
     "text": [
      "<class 'str'>\n"
     ]
    }
   ],
   "source": [
    "age=25\n",
    "print(type(str(age)))"
   ]
  },
  {
   "cell_type": "code",
   "execution_count": 35,
   "id": "2bf62507-4393-4ff4-87d0-dec876daa1c9",
   "metadata": {},
   "outputs": [
    {
     "ename": "ValueError",
     "evalue": "invalid literal for int() with base 10: 'sapna'",
     "output_type": "error",
     "traceback": [
      "\u001b[1;31m---------------------------------------------------------------------------\u001b[0m",
      "\u001b[1;31mValueError\u001b[0m                                Traceback (most recent call last)",
      "Cell \u001b[1;32mIn[35], line 3\u001b[0m\n\u001b[0;32m      1\u001b[0m \u001b[38;5;66;03m# now can we change str into int ans is no bcz str is complete word \u001b[39;00m\n\u001b[0;32m      2\u001b[0m name \u001b[38;5;241m=\u001b[39m \u001b[38;5;124m\"\u001b[39m\u001b[38;5;124msapna\u001b[39m\u001b[38;5;124m\"\u001b[39m\n\u001b[1;32m----> 3\u001b[0m \u001b[38;5;28mprint\u001b[39m(\u001b[38;5;28mtype\u001b[39m(\u001b[38;5;28mint\u001b[39m(name)))\n",
      "\u001b[1;31mValueError\u001b[0m: invalid literal for int() with base 10: 'sapna'"
     ]
    }
   ],
   "source": [
    "# now can we change str into int ans is (no) bcz str is complete word \n",
    "name = \"sapna\"\n",
    "print(type(int(name)))"
   ]
  },
  {
   "cell_type": "code",
   "execution_count": 37,
   "id": "c7a5d7f4-b14b-4fe4-a038-db6e267506b8",
   "metadata": {},
   "outputs": [
    {
     "name": "stdout",
     "output_type": "stream",
     "text": [
      "sapna <class 'str'>\n",
      "24 <class 'int'>\n",
      "4.5 <class 'float'>\n"
     ]
    }
   ],
   "source": [
    "# dynamic typing\n",
    "# python allow the type of variable change as the program exicute\n",
    "\n",
    "var= \"sapna\"\n",
    "print(var,type(var))\n",
    "\n",
    "var= 24\n",
    "print(var,type(var))\n",
    "\n",
    "var = 4.5\n",
    "print(var,type(var))"
   ]
  },
  {
   "cell_type": "code",
   "execution_count": null,
   "id": "6e9acc78-3758-4463-b0d0-9e7372372ebf",
   "metadata": {},
   "outputs": [],
   "source": []
  }
 ],
 "metadata": {
  "kernelspec": {
   "display_name": "Python 3 (ipykernel)",
   "language": "python",
   "name": "python3"
  },
  "language_info": {
   "codemirror_mode": {
    "name": "ipython",
    "version": 3
   },
   "file_extension": ".py",
   "mimetype": "text/x-python",
   "name": "python",
   "nbconvert_exporter": "python",
   "pygments_lexer": "ipython3",
   "version": "3.11.7"
  }
 },
 "nbformat": 4,
 "nbformat_minor": 5
}
